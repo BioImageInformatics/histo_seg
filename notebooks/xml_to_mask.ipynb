{
 "cells": [
  {
   "cell_type": "code",
   "execution_count": 177,
   "metadata": {
    "collapsed": false
   },
   "outputs": [],
   "source": [
    "import xml.etree.ElementTree\n",
    "import cv2\n",
    "import glob\n",
    "import os\n",
    "import numpy as np\n",
    "from openslide import OpenSlide\n",
    "\n",
    "xml_list = sorted(glob.glob(\n",
    "    '/Users/nathaning/Dropbox/projects/semantic_pca/data/annotations/*.xml'))\n",
    "\n",
    "%matplotlib inline\n",
    "from matplotlib import pyplot as plt"
   ]
  },
  {
   "cell_type": "code",
   "execution_count": 100,
   "metadata": {
    "collapsed": false
   },
   "outputs": [],
   "source": [
    "GradeCode = {\n",
    "    '3+3': 1,\n",
    "    '4+4': 2,\n",
    "    '4+5': 3,\n",
    "    'BN':  4,\n",
    "    'ST':  5\n",
    "}"
   ]
  },
  {
   "cell_type": "code",
   "execution_count": 175,
   "metadata": {
    "collapsed": false,
    "scrolled": true
   },
   "outputs": [
    {
     "name": "stdout",
     "output_type": "stream",
     "text": [
      "1304718.xml\n",
      "\tGrade: 3+3 Area: 9298823.4, N verts: 387\n",
      "\tGrade: BN Area: 24176490.5, N verts: 387\n"
     ]
    }
   ],
   "source": [
    "# for xmlpath in xml_list:\n",
    "xmlpath = xml_list[9]\n",
    "print os.path.basename(xmlpath)\n",
    "e = xml.etree.ElementTree.parse(xmlpath).getroot()\n",
    "regions = e.findall('Annotation')[0].findall('Regions')[0].findall('Region')\n",
    "\n",
    "contours = []\n",
    "for region in regions:\n",
    "    grade = region.attrib['Text']\n",
    "    area = region.attrib['AreaMicrons']\n",
    "    vertices = region.findall('Vertices')[0].findall('Vertex')\n",
    "    contours.append(np.asarray([(int(vert.attrib['X'])/16, int(vert.attrib['Y'])/16) \n",
    "                     for vert in vertices], dtype=np.int32))\n",
    "    print '\\tGrade: {} Area: {}, N verts: {}'.format(\n",
    "        grade, area, len(XY))"
   ]
  },
  {
   "cell_type": "code",
   "execution_count": 176,
   "metadata": {
    "collapsed": false
   },
   "outputs": [
    {
     "name": "stdout",
     "output_type": "stream",
     "text": [
      "(4000, 4000) 0.0 155.0\n"
     ]
    },
    {
     "data": {
      "text/plain": [
       "<matplotlib.colorbar.Colorbar at 0x1069caa90>"
      ]
     },
     "execution_count": 176,
     "metadata": {},
     "output_type": "execute_result"
    },
    {
     "data": {
      "image/png": "[encoded data removed]",
      "text/plain": [
       "<matplotlib.figure.Figure at 0x19825d450>"
      ]
     },
     "metadata": {},
     "output_type": "display_data"
    }
   ],
   "source": [
    "img = np.zeros((4000,4000))\n",
    "\n",
    "cv2.drawContours(img, contours, -1, (155), 50)\n",
    "\n",
    "print img.shape, img.min(), img.max()\n",
    "plt.matshow(img)\n",
    "plt.colorbar()"
   ]
  },
  {
   "cell_type": "code",
   "execution_count": 120,
   "metadata": {
    "collapsed": false
   },
   "outputs": [
    {
     "name": "stdout",
     "output_type": "stream",
     "text": [
      "Help on built-in function drawContours in module cv2:\n",
      "\n",
      "drawContours(...)\n",
      "    drawContours(image, contours, contourIdx, color[, thickness[, lineType[, hierarchy[, maxLevel[, offset]]]]]) -> None\n",
      "\n"
     ]
    }
   ],
   "source": [
    "help(cv2.drawContours)"
   ]
  },
  {
   "cell_type": "code",
   "execution_count": 124,
   "metadata": {
    "collapsed": true
   },
   "outputs": [],
   "source": [
    "xy_np = np.asarray(XY)"
   ]
  },
  {
   "cell_type": "code",
   "execution_count": 148,
   "metadata": {
    "collapsed": false
   },
   "outputs": [
    {
     "data": {
      "text/plain": [
       "array([[ 432,  435,  435,  446,  467,  476,  495,  502,  509,  511,  520,\n",
       "         525,  530,  539,  550,  564,  569,  578,  592,  599,  611,  620,\n",
       "         622,  629,  634,  638,  641,  650,  662,  671,  689,  701,  715,\n",
       "         722,  731,  743,  747,  761,  775,  784,  787,  796,  805,  814,\n",
       "         824,  833,  837,  842,  849,  861,  868,  877,  898,  907,  923,\n",
       "         939,  965,  979, 1004, 1034, 1055, 1062, 1074, 1083, 1092, 1111,\n",
       "        1143, 1168, 1175, 1182, 1185, 1189, 1192, 1201, 1210, 1212, 1215,\n",
       "        1226, 1243, 1252, 1261, 1268, 1270, 1275, 1280, 1289, 1291, 1300,\n",
       "        1305, 1310, 1312, 1319, 1328, 1335, 1347, 1356, 1361, 1365, 1372,\n",
       "        1379, 1381, 1391, 1395, 1400, 1402, 1409, 1414, 1418, 1421, 1423,\n",
       "        1423, 1425, 1428, 1428, 1428, 1430, 1432, 1435, 1435, 1437, 1439,\n",
       "        1444, 1446, 1449, 1451, 1455, 1462, 1462, 1467, 1474, 1476, 1483,\n",
       "        1486, 1490, 1493, 1497, 1499, 1504, 1506, 1509, 1513, 1518, 1518,\n",
       "        1518, 1523, 1527, 1527, 1530, 1532, 1537, 1537, 1539, 1541, 1541,\n",
       "        1541, 1541, 1548, 1548, 1548, 1548, 1550, 1550, 1550, 1555, 1557,\n",
       "        1557, 1557, 1557, 1557, 1557, 1560, 1560, 1560, 1560, 1560, 1560,\n",
       "        1560, 1560, 1557, 1557, 1553, 1553, 1548, 1543, 1539, 1539, 1537,\n",
       "        1530, 1530, 1527, 1525, 1520, 1516, 1516, 1509, 1502, 1497, 1493,\n",
       "        1486, 1481, 1472, 1467, 1458, 1449, 1435, 1428, 1421, 1412, 1400,\n",
       "        1398, 1388, 1381, 1372, 1365, 1358, 1347, 1340, 1333, 1326, 1319,\n",
       "        1310, 1303, 1289, 1275, 1268, 1256, 1252, 1240, 1231, 1224, 1222,\n",
       "        1215, 1208, 1201, 1196, 1187, 1182, 1168, 1162, 1159, 1155, 1152,\n",
       "        1150, 1148, 1143, 1138, 1134, 1127, 1124, 1122, 1118, 1115, 1115,\n",
       "        1113, 1111, 1108, 1106, 1104, 1101, 1094, 1090, 1078, 1074, 1060,\n",
       "        1039, 1023, 1013, 1004,  990,  983,  962,  958,  946,  942,  932,\n",
       "         930,  918,  912,  895,  893,  886,  881,  877,  872,  870,  868,\n",
       "         865,  861,  861,  858,  856,  854,  851,  851,  847,  847,  842,\n",
       "         842,  840,  840,  837,  831,  828,  828,  828,  824,  814,  810,\n",
       "         805,  803,  793,  791,  789,  789,  787,  782,  775,  766,  759,\n",
       "         756,  754,  749,  743,  736,  731,  726,  719,  715,  712,  710,\n",
       "         706,  701,  694,  682,  675,  671,  662,  648,  638,  629,  627,\n",
       "         613,  608,  597,  590,  585,  583,  578,  569,  562,  557,  550,\n",
       "         539,  534,  523,  504,  493,  488,  483,  481,  481,  476,  474,\n",
       "         474,  474,  469,  467,  465,  462,  462,  460,  460,  456,  453,\n",
       "         451,  449,  449,  446,  444,  442,  439,  437,  435,  435,  435,\n",
       "         432,  432],\n",
       "       [1393, 1374, 1370, 1342, 1307, 1284, 1229, 1175, 1118, 1099, 1050,\n",
       "        1016, 1002,  972,  949,  923,  907,  874,  842,  828,  800,  775,\n",
       "         763,  747,  743,  733,  729,  719,  706,  694,  671,  657,  641,\n",
       "         629,  615,  601,  590,  574,  553,  534,  530,  516,  497,  490,\n",
       "         476,  462,  456,  449,  442,  432,  430,  425,  416,  414,  412,\n",
       "         409,  405,  402,  398,  391,  388,  388,  388,  388,  388,  388,\n",
       "         388,  388,  388,  388,  388,  388,  388,  388,  388,  388,  388,\n",
       "         388,  388,  388,  388,  388,  388,  388,  388,  388,  388,  388,\n",
       "         388,  388,  388,  388,  388,  388,  388,  388,  388,  391,  393,\n",
       "         395,  395,  398,  400,  402,  402,  405,  409,  412,  414,  416,\n",
       "         418,  421,  425,  428,  430,  430,  432,  435,  437,  439,  442,\n",
       "         449,  451,  453,  456,  465,  476,  481,  495,  506,  513,  525,\n",
       "         534,  546,  548,  557,  562,  574,  578,  583,  592,  604,  606,\n",
       "         615,  622,  634,  638,  641,  650,  659,  662,  666,  671,  675,\n",
       "         678,  685,  694,  701,  706,  710,  715,  717,  722,  731,  738,\n",
       "         743,  749,  754,  756,  763,  766,  775,  782,  796,  798,  805,\n",
       "         817,  819,  828,  831,  837,  840,  851,  863,  870,  874,  881,\n",
       "         888,  891,  893,  895,  898,  905,  907,  912,  916,  921,  923,\n",
       "         925,  928,  930,  932,  937,  942,  949,  951,  953,  958,  962,\n",
       "         962,  969,  974,  979,  983,  988,  993,  999, 1006, 1011, 1016,\n",
       "        1020, 1025, 1032, 1037, 1043, 1053, 1053, 1060, 1067, 1071, 1074,\n",
       "        1078, 1083, 1087, 1092, 1099, 1104, 1113, 1118, 1120, 1122, 1124,\n",
       "        1124, 1127, 1129, 1131, 1134, 1138, 1141, 1141, 1141, 1141, 1143,\n",
       "        1145, 1145, 1145, 1145, 1148, 1148, 1148, 1148, 1148, 1148, 1148,\n",
       "        1148, 1148, 1148, 1148, 1150, 1150, 1155, 1155, 1157, 1159, 1164,\n",
       "        1164, 1171, 1173, 1182, 1185, 1192, 1196, 1199, 1206, 1208, 1212,\n",
       "        1217, 1222, 1224, 1231, 1236, 1243, 1245, 1252, 1256, 1263, 1270,\n",
       "        1275, 1282, 1284, 1293, 1303, 1307, 1310, 1317, 1330, 1340, 1361,\n",
       "        1368, 1379, 1388, 1400, 1405, 1407, 1416, 1423, 1435, 1449, 1455,\n",
       "        1458, 1462, 1465, 1472, 1481, 1483, 1488, 1493, 1495, 1497, 1499,\n",
       "        1502, 1502, 1504, 1506, 1509, 1509, 1509, 1513, 1513, 1513, 1516,\n",
       "        1516, 1518, 1523, 1523, 1523, 1523, 1523, 1525, 1525, 1525, 1525,\n",
       "        1525, 1523, 1518, 1509, 1502, 1499, 1497, 1495, 1493, 1490, 1488,\n",
       "        1486, 1483, 1479, 1476, 1474, 1469, 1467, 1467, 1460, 1449, 1446,\n",
       "        1442, 1437, 1435, 1430, 1425, 1421, 1416, 1412, 1412, 1409, 1405,\n",
       "        1402, 1393]])"
      ]
     },
     "execution_count": 148,
     "metadata": {},
     "output_type": "execute_result"
    }
   ],
   "source": [
    "xy_np.transpose()"
   ]
  },
  {
   "cell_type": "code",
   "execution_count": 136,
   "metadata": {
    "collapsed": false
   },
   "outputs": [
    {
     "data": {
      "text/plain": [
       "1525"
      ]
     },
     "execution_count": 136,
     "metadata": {},
     "output_type": "execute_result"
    }
   ],
   "source": [
    "xy_np[:,1].max()"
   ]
  },
  {
   "cell_type": "code",
   "execution_count": null,
   "metadata": {
    "collapsed": true
   },
   "outputs": [],
   "source": []
  }
 ],
 "metadata": {
  "kernelspec": {
   "display_name": "Python 2",
   "language": "python",
   "name": "python2"
  },
  "language_info": {
   "codemirror_mode": {
    "name": "ipython",
    "version": 2
   },
   "file_extension": ".py",
   "mimetype": "text/x-python",
   "name": "python",
   "nbconvert_exporter": "python",
   "pygments_lexer": "ipython2",
   "version": "2.7.13"
  }
 },
 "nbformat": 4,
 "nbformat_minor": 2
}
