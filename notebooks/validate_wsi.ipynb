{
 "cells": [
  {
   "cell_type": "code",
   "execution_count": 1,
   "metadata": {
    "collapsed": false
   },
   "outputs": [
    {
     "data": {
      "text/html": [
       "<style>.container { width:100% !important; }</style>"
      ],
      "text/plain": [
       "<IPython.core.display.HTML object>"
      ]
     },
     "metadata": {},
     "output_type": "display_data"
    }
   ],
   "source": [
    "from IPython.core.display import display, HTML\n",
    "display(HTML(\"<style>.container { width:100% !important; }</style>\"))"
   ]
  },
  {
   "cell_type": "code",
   "execution_count": 2,
   "metadata": {
    "collapsed": false
   },
   "outputs": [],
   "source": [
    "import cv2\n",
    "import numpy as np\n",
    "\n",
    "import shutil\n",
    "import os, sys, glob, re\n",
    "\n",
    "GradeCode = {\n",
    "    '3+3': 0,\n",
    "    '4+4': 1,\n",
    "    '4+5': 2,\n",
    "    'BN':  3,\n",
    "    'ST':  4\n",
    "}\n",
    "\n",
    "GradeCodeInv = {\n",
    "    0: '3+3',\n",
    "    1: '4+4',\n",
    "    2: '4+5',\n",
    "    3: 'BN',\n",
    "    4: 'ST'\n",
    "}\n",
    "\n",
    "# Given the annotation code, what labels are we looking for?\n",
    "GradeTargets = {\n",
    "    0: 0,\n",
    "    1: 1,\n",
    "    2: 1,\n",
    "    3: 2,\n",
    "    4: 3\n",
    "}\n",
    "\n",
    "epithelium_labels = [0,1,2]\n",
    "proposal_labels = {\n",
    "    0: 'Low Grade',\n",
    "    1: 'High Grade',\n",
    "    2: 'Benign',\n",
    "    3: 'Stroma'\n",
    "}\n",
    "\n",
    "%matplotlib inline\n",
    "from matplotlib import pyplot as plt\n",
    "from matplotlib import rc\n",
    "plt.style.use('seaborn-whitegrid')\n",
    "plt.rc('text', usetex=True)\n",
    "plt.rc('font', family='serif')\n",
    "\n",
    "from sklearn.metrics import roc_curve, auc"
   ]
  },
  {
   "cell_type": "code",
   "execution_count": 3,
   "metadata": {
    "collapsed": false
   },
   "outputs": [],
   "source": [
    "def class_masks(prob, mode='Argmax', thr=0.5):\n",
    "    n_class = prob.shape[-1]\n",
    "    if mode=='Argmax':\n",
    "        prob = np.argmax(prob, axis=2)\n",
    "    elif mode=='Thresh':\n",
    "        for k in [0,1,2]:\n",
    "#             print (prob[:,:,k] < thr).sum()\n",
    "            prob[(prob[:,:,k] < thr), k ] = 0\n",
    "        prob = np.argmax(prob, axis=2)\n",
    "        \n",
    "    masks = [prob == n for n in range(n_class)]\n",
    "    \n",
    "    return masks\n",
    "\n",
    "def eval_region(proposed, true_grade, reportf, verbose=False):\n",
    "    area = np.sum(proposed)\n",
    "        \n",
    "    epith_area = 0.0\n",
    "    st_area = proposed[-1]\n",
    "    for k in epithelium_labels:\n",
    "        epith_area += proposed[k]\n",
    "        \n",
    "    TP = proposed[GradeTargets[true_grade]]    \n",
    "    if true_grade == 4:\n",
    "        TP_pct = 100*TP/area\n",
    "    else:\n",
    "        TP_pct = 100*TP/epith_area\n",
    "#     FN = epith_area - TP\n",
    "#     FN_pct = 100*FN/epith_area\n",
    "\n",
    "    report_str = 'Region graded as {} is {} total area\\n'.format(GradeCodeInv[true_grade], area)\n",
    "    for k in proposal_labels.iterkeys():\n",
    "        report_str +=  '\\t{}: {}\\n'.format(proposal_labels[k], proposed[k])\n",
    "    report_str += '\\tEpithelium area: {}\\n'.format(epith_area)\n",
    "    report_str += '\\tTrue positive: {:3.3f}%\\n'.format(TP_pct)\n",
    "    report_str += '\\tTrue area: {}\\n'.format(TP)\n",
    "    \n",
    "    with open(reportf, 'a+') as f:\n",
    "        f.write(report_str)\n",
    "\n",
    "    if verbose:\n",
    "        print report_str\n",
    "#         print 'Region graded as {} is {} total area'.format(GradeCodeInv[true_grade], area)\n",
    "#         for k in proposal_labels.iterkeys():\n",
    "#             print '\\t{}: {}'.format(proposal_labels[k], proposed[k])\n",
    "#         print '\\tEpithelium area: {}'.format(epith_area)\n",
    "#         print '\\tTrue postive: {:3.3f}%'.format(TP_pct)\n",
    "    \n",
    "    return TP_pct, area\n",
    "#     print '\\tFalse negative: {:3.3f}%'.format(FN_pct)\n",
    "\n",
    "def list_matching(prob_path, anno_path):\n",
    "#     prob_list = sorted(glob.glob('/home/nathan/histo-seg/semantic-pca/analysis_wsi/segnet_basic/*npy'))\n",
    "#     anno_list = sorted(glob.glob('/home/nathan/Dropbox/projects/semantic_pca/data/annotations/wsi_annotation/*.png'))\n",
    "    \n",
    "    prob_list = sorted(glob.glob(os.path.join(prob_path, '*npy')))\n",
    "    anno_list = sorted(glob.glob(os.path.join(anno_path, '*.png')))\n",
    "    \n",
    "    print len(prob_list), len(anno_list)\n",
    "\n",
    "    # prob_base = [os.path.basename(os.path.splitext(pb)[0]).replace('_probability', '') for pb in prob_list]\n",
    "    prob_base = [os.path.basename(os.path.splitext(pb)[0]).replace('_probability', '') for pb in prob_list]\n",
    "    anno_base = [os.path.basename(os.path.splitext(ab)[0]) for ab in anno_list]\n",
    "\n",
    "    prob_list = [p_path for pb, p_path in zip(prob_base, prob_list) if pb in anno_base]\n",
    "    # prob_base = [os.path.basename(os.path.splitext(pb)[0]).replace('_probability', '') for pb in prob_list]\n",
    "    prob_base = [os.path.basename(os.path.splitext(pb)[0]).replace('_probability', '') for pb in prob_list]\n",
    "    anno_list = [a_path for ab, a_path in zip(anno_base, anno_list) if ab in prob_base]\n",
    "\n",
    "    print len(prob_list), len(anno_list)\n",
    "    \n",
    "    return prob_list, anno_list"
   ]
  },
  {
   "cell_type": "code",
   "execution_count": 41,
   "metadata": {
    "collapsed": false,
    "scrolled": false
   },
   "outputs": [
    {
     "name": "stdout",
     "output_type": "stream",
     "text": [
      "/Users/nathaning/Dropbox/projects/semantic_pca/results/segnet_basic_rotation\n",
      "30 30\n",
      "30 30\n",
      "Using /Users/nathaning/Dropbox/projects/semantic_pca/results/segnet_basic_rotation/_report_no_thresh.txt\n",
      "3+3:\t72.2698 +/- 17.2759\n",
      "4+4:\t95.6834 +/- 5.0860\n",
      "4+5:\t97.6595 +/- 3.0984\n",
      "BN:\t85.3515 +/- 16.1394\n",
      "ST:\t88.0000 +/- 0.0000\n",
      "\n",
      "Done\n"
     ]
    }
   ],
   "source": [
    "# anno_path = '/home/nathan/Dropbox/projects/semantic_pca/data/annotations/wsi_annotation'\n",
    "anno_path = '/Users/nathaning/Dropbox/projects/semantic_pca/data/annotations/wsi_annotation'\n",
    "\n",
    "# prob_dirs = ['/home/nathan/histo-seg/semantic-pca/analysis_wsi/segnet_full',\n",
    "# #              '/home/nathan/histo-seg/semantic-pca/analysis_wsi/segnet_basic',\n",
    "# #              '/home/nathan/histo-seg/semantic-pca/analysis_wsi/segnet_basic_crf',\n",
    "# #              '/home/nathan/histo-seg/semantic-pca/analysis_wsi/segnet_basic_rotation',\n",
    "#              '/home/nathan/histo-seg/semantic-pca/analysis_wsi/fcn8s',\n",
    "#             ]\n",
    "\n",
    "# prob_dirs = ['/Users/nathaning/Dropbox/projects/semantic_pca/results/segnet_full',\n",
    "#              '/Users/nathaning/Dropbox/projects/semantic_pca/results/segnet_basic',\n",
    "#              '/Users/nathaning/Dropbox/projects/semantic_pca/results/fcn8s',\n",
    "#             ]\n",
    "\n",
    "prob_dirs = ['/Users/nathaning/Dropbox/projects/semantic_pca/results/segnet_basic_rotation']\n",
    "\n",
    "thresholds = np.linspace(0.1,0.9,20)\n",
    "\n",
    "# for thr in thresholds:\n",
    "#     print thr\n",
    "for prob_path in prob_dirs:\n",
    "    print prob_path\n",
    "    prob_list, anno_list = list_matching(prob_path, anno_path)\n",
    "\n",
    "#     reportf = os.path.join(prob_path, '_report_thresh{}.txt'.format(thr))\n",
    "    reportf = os.path.join(prob_path, '_report_no_thresh.txt')\n",
    "\n",
    "    if os.path.exists(reportf):\n",
    "        print 'Removing {}'.format(reportf)\n",
    "        os.remove(reportf)\n",
    "\n",
    "    print 'Using {}'.format(reportf)\n",
    "\n",
    "    grade_results = {\n",
    "        0: [],\n",
    "        1: [],\n",
    "        2: [],\n",
    "        3: [],\n",
    "        4: [],\n",
    "    }\n",
    "\n",
    "    accuracy_list = []\n",
    "    area_list = []\n",
    "\n",
    "    for ppath, apath in zip(prob_list, anno_list):\n",
    "\n",
    "#         print os.path.basename(ppath)\n",
    "\n",
    "        pimg = np.load(ppath)\n",
    "        aimg = cv2.imread(apath, -1)\n",
    "\n",
    "#         pmax = np.argmax(pimg, axis=2)\n",
    "\n",
    "        ## masks\n",
    "        masks = class_masks(pimg, mode='Argmax')\n",
    "\n",
    "        annotations, _ = cv2.findContours((aimg<255).astype(np.uint8),cv2.RETR_EXTERNAL,cv2.CHAIN_APPROX_SIMPLE)\n",
    "\n",
    "        for anno in annotations:\n",
    "            anno_mask = np.zeros_like(aimg)\n",
    "            cv2.drawContours(anno_mask, [anno], 0, (1), -1)\n",
    "            anno_mask = anno_mask==1\n",
    "            grade = np.unique(aimg[anno_mask])[0]\n",
    "\n",
    "            # Check the content\n",
    "            proposed = [(mask[anno_mask]).sum() for mask in masks]\n",
    "            TP, area = eval_region(proposed, grade, reportf, verbose=False)\n",
    "\n",
    "            grade_results[grade].append(TP)\n",
    "            accuracy_list.append(TP)\n",
    "            area_list.append(area)\n",
    "\n",
    "    summarystr = ''\n",
    "    for key in grade_results:\n",
    "        summarystr += '{}:\\t{:3.4f} +/- {:3.4f}\\n'.format(GradeCodeInv[key], np.mean(grade_results[key]), np.std(grade_results[key]))\n",
    "    #     print GradeCodeInv[key], ':\\t', np.mean(grade_results[key]), '+/-', np.std(grade_results[key])\n",
    "\n",
    "    print summarystr\n",
    "    with open(reportf, 'a') as f:\n",
    "        f.write(summarystr)\n",
    "    \n",
    "\n",
    "print 'Done'"
   ]
  },
  {
   "cell_type": "markdown",
   "metadata": {
    "collapsed": true
   },
   "source": [
    "# Parse the report and get:\n",
    "\n",
    "- True positive per annotation\n",
    "- Annotation area\n",
    "- Grade per annotation"
   ]
  },
  {
   "cell_type": "code",
   "execution_count": 4,
   "metadata": {
    "collapsed": true
   },
   "outputs": [],
   "source": [
    "TP_pattern = r'\\tTrue positive: (?P<tp>\\d+\\.\\d+)%'\n",
    "\n",
    "TP_AREA_pattern = r'\\tTrue area: (?P<tp>\\d+)'\n",
    "\n",
    "PATTERN = r'Region graded as (?P<grade>.{2,3}) is .+\\n\\tLow Grade: (?P<lg>\\d+)\\n\\tHigh Grade: (?P<hg>\\d+)\\n\\tBenign: (?P<bn>\\d+)\\n\\tStroma: (?P<st>\\d+)\\n\\tEpithelium area: (?P<ep>\\d+\\.\\d+)'\n",
    "\n",
    "AREA_PATT = r'Region graded as .{2,3} is (?P<area>\\d+) total area'"
   ]
  },
  {
   "cell_type": "code",
   "execution_count": 16,
   "metadata": {
    "collapsed": false
   },
   "outputs": [],
   "source": [
    "# Define positive if we have a simple majority for eplithelium\n",
    "def pct_epithelium(target, lg, hg, bn, thresh=0.5):\n",
    "    ep = lg + hg + bn\n",
    "    if ep > 0:\n",
    "        pct = target / ep\n",
    "        return pct\n",
    "    else:\n",
    "        return 0\n",
    "#     return pct > thresh\n",
    "\n",
    "# # Define postive stroma if we have st as most abundanat, above some threshold\n",
    "# def pct_stroma(lg, hg, bn, st, thresh=0.5):\n",
    "#     return st / (lg + hg + bn + st)\n"
   ]
  },
  {
   "cell_type": "code",
   "execution_count": 17,
   "metadata": {
    "collapsed": false
   },
   "outputs": [
    {
     "data": {
      "text/plain": [
       "<matplotlib.text.Text at 0x1150f5950>"
      ]
     },
     "execution_count": 17,
     "metadata": {},
     "output_type": "execute_result"
    },
    {
     "data": {
      "image/png": "[encoded data removed]",
      "text/plain": [
       "<matplotlib.figure.Figure at 0x114250fd0>"
      ]
     },
     "metadata": {},
     "output_type": "display_data"
    }
   ],
   "source": [
    "rep_file = '/Users/nathaning/Dropbox/projects/semantic_pca/results/fcn8s/_report_no_thresh.txt'\n",
    "\n",
    "with open(rep_file, 'r') as f:\n",
    "    log = f.read()\n",
    "    \n",
    "gr = []\n",
    "lg = []\n",
    "hg = []\n",
    "bn = []\n",
    "st = []\n",
    "for r in re.findall(PATTERN, log):\n",
    "    gr.append(GradeCode[r[0]])\n",
    "    lg.append(float(r[1]))\n",
    "    hg.append(float(r[2]))\n",
    "    bn.append(float(r[3]))\n",
    "    st.append(float(r[4]))\n",
    "    \n",
    "gr = np.asarray(gr)\n",
    "lg = np.asarray(lg)\n",
    "hg = np.asarray(hg)\n",
    "bn = np.asarray(bn)\n",
    "st = np.asarray(st)\n",
    "# tp_pct = np.asarray(tp_pct)\n",
    "\n",
    "# Combine high grades into a single label\n",
    "gr[gr==2] = 1\n",
    "gr[gr==3] = 2\n",
    "\n",
    "\n",
    "# low grade = positive class\n",
    "# search across % thresholds given low grade.\n",
    "\n",
    "# scores should be the percent of the positive class\n",
    "lg_scores = []\n",
    "for l, h, b, s in zip(lg, hg, bn, st):\n",
    "    lg_scores.append(pct_epithelium(l, l, h, b))\n",
    "lg_scores = np.asarray(lg_scores)\n",
    "\n",
    "hg_scores = []\n",
    "for l, h, b, s in zip(lg, hg, bn, st):\n",
    "    hg_scores.append(pct_epithelium(h, l, h, b))\n",
    "hg_scores = np.asarray(hg_scores)\n",
    "\n",
    "bn_scores = []\n",
    "for l, h, b, s in zip(lg, hg, bn, st):\n",
    "    bn_scores.append(pct_epithelium(b, l, h, b))\n",
    "bn_scores = np.asarray(bn_scores)\n",
    "\n",
    "# st_scores = []\n",
    "# for l, h, b, s in zip(lg, hg, bn, st):\n",
    "#     st_scores.append(pct_stroma(l, h, b, s))\n",
    "# st_scores = np.asarray(st_scores)\n",
    "\n",
    "lg_fpr, lg_tpr, lgthresholds = roc_curve(gr, lg_scores, pos_label=0, drop_intermediate=True)\n",
    "hg_fpr, hg_tpr, hgthresholds = roc_curve(gr, hg_scores, pos_label=1, drop_intermediate=True)\n",
    "bn_fpr, bn_tpr, bnthresholds = roc_curve(gr, bn_scores, pos_label=2, drop_intermediate=True)\n",
    "\n",
    "lgauc = auc(lg_fpr, lg_tpr)\n",
    "hgauc = auc(hg_fpr, hg_tpr)\n",
    "bnauc = auc(bn_fpr, bn_tpr)\n",
    "# st_fpr, st_tpr, thresholds = roc_curve(gr, st_scores, pos_label=3)\n",
    "\n",
    "fig, ax = plt.subplots(1,1, figsize=(5,5))\n",
    "\n",
    "ax.plot(lg_fpr, lg_tpr, lw=5, color='b', label='Low Grade AUC={:1.2f}'.format(lgauc))\n",
    "ax.plot(hg_fpr, hg_tpr, lw=3, color='g', label='High Grade AUC={:1.2f}'.format(hgauc))\n",
    "ax.plot(bn_fpr, bn_tpr, lw=2, color='r', label='Benign AUC={:1.2f}'.format(bnauc))\n",
    "\n",
    "ax.set_ylabel('True Positive', fontsize=18)\n",
    "ax.set_xlabel('False Positive', fontsize=18)\n",
    "ax.set_xlim([-0.1, 1.1])\n",
    "ax.set_ylim([0, 1.1])\n",
    "lgd = plt.legend(loc=4, fontsize=14)\n",
    "ax.set_title('ROC Plots for 3 Epithelium Catagories\\nFCN-8s', fontsize=20)\n",
    "\n",
    "# outfile = '/Users/nathaning/Dropbox/_Papers/pca segmentation/Figs/wsi/fcn_auc.pdf'\n",
    "# fig.savefig(outfile, bbox_inches='tight')"
   ]
  },
  {
   "cell_type": "code",
   "execution_count": 312,
   "metadata": {
    "collapsed": false,
    "scrolled": false
   },
   "outputs": [
    {
     "data": {
      "image/png": "[encoded data removed]",
      "text/plain": [
       "<matplotlib.figure.Figure at 0x1273bc690>"
      ]
     },
     "metadata": {},
     "output_type": "display_data"
    }
   ],
   "source": [
    "true_positives = []\n",
    "tp_areas = []\n",
    "all_areas = []\n",
    "lgauc = []\n",
    "hgauc = []\n",
    "bnauc = []\n",
    "\n",
    "for pct in thresholds:\n",
    "    rep = '/Users/nathaning/Dropbox/projects/semantic_pca/results/segnet_basic/_report_thresh{}.txt'.format(pct)\n",
    "\n",
    "    with open(rep, 'r') as f:\n",
    "        log = f.read()\n",
    "        \n",
    "    gr = []\n",
    "    lg = []\n",
    "    hg = []\n",
    "    bn = []\n",
    "    st = []\n",
    "    for r in re.findall(PATTERN, log):\n",
    "        gr.append(GradeCode[r[0]])\n",
    "        \n",
    "        if not np.isnan(float(r[1]) ):\n",
    "            lg.append(float(r[1]))\n",
    "        else:\n",
    "            lg.append(1e-10)\n",
    "            \n",
    "        if not np.isnan(float(r[2]) ):\n",
    "            hg.append(float(r[2]))\n",
    "        else:\n",
    "            hg.append(1e-10)\n",
    "            \n",
    "        if not np.isnan(float(r[3]) ):\n",
    "            bn.append(float(r[3]))\n",
    "        else:\n",
    "            bn.append(1e-10)\n",
    "            \n",
    "        if not np.isnan(float(r[4]) ):\n",
    "            st.append(float(r[4]))\n",
    "        else:\n",
    "            st.append(1e-10)\n",
    "\n",
    "#     print len(gr)\n",
    "#     print len(lg)\n",
    "#     print len(hg)\n",
    "#     print len(bn)\n",
    "#     print len(st)\n",
    "    gr = np.asarray(gr)\n",
    "    lg = np.asarray(lg)\n",
    "    hg = np.asarray(hg)\n",
    "    bn = np.asarray(bn)\n",
    "    st = np.asarray(st)\n",
    "    \n",
    "    gr[gr==2] = 1\n",
    "    gr[gr==3] = 2\n",
    "    \n",
    "    lg_scores = []\n",
    "    for l, h, b, s in zip(lg, hg, bn, st):\n",
    "        lg_scores.append(pct_epithelium(l, l, h, b))\n",
    "    lg_scores = np.asarray(lg_scores)\n",
    "\n",
    "    hg_scores = []\n",
    "    for l, h, b, s in zip(lg, hg, bn, st):\n",
    "        hg_scores.append(pct_epithelium(h, l, h, b))\n",
    "    hg_scores = np.asarray(hg_scores)\n",
    "\n",
    "    bn_scores = []\n",
    "    for l, h, b, s in zip(lg, hg, bn, st):\n",
    "        bn_scores.append(pct_epithelium(b, l, h, b))\n",
    "    bn_scores = np.asarray(bn_scores)\n",
    "\n",
    "    # st_scores = []\n",
    "    # for l, h, b, s in zip(lg, hg, bn, st):\n",
    "    #     st_scores.append(pct_stroma(l, h, b, s))\n",
    "    # st_scores = np.asarray(st_scores)\n",
    "\n",
    "    lg_fpr, lg_tpr, lgthresholds = roc_curve(gr, lg_scores, pos_label=0, drop_intermediate=True)\n",
    "    hg_fpr, hg_tpr, hgthresholds = roc_curve(gr, hg_scores, pos_label=1, drop_intermediate=True)\n",
    "    bn_fpr, bn_tpr, bnthresholds = roc_curve(gr, bn_scores, pos_label=2, drop_intermediate=True)\n",
    "\n",
    "    lgauc.append(auc(lg_fpr, lg_tpr))\n",
    "    hgauc.append(auc(hg_fpr, hg_tpr))\n",
    "    bnauc.append(auc(bn_fpr, bn_tpr))\n",
    "    \n",
    "        \n",
    "    tp = []        \n",
    "    for r in re.findall(TP_pattern, log):\n",
    "        tp.append(float(r))\n",
    "        \n",
    "    tp_area = []        \n",
    "    for r in re.findall(TP_AREA_pattern, log):\n",
    "        tp_area.append(float(r))\n",
    "        \n",
    "    areas = []\n",
    "    for r in re.findall(AREA_PATT, log):\n",
    "        areas.append(float(r))\n",
    "        \n",
    "    true_positives.append(tp)\n",
    "    all_areas.append(areas)\n",
    "    tp_areas.append(tp_area)\n",
    "    \n",
    "# print true_positives\n",
    "\n",
    "# tp_mean = [np.average(xx,weights=yy) for xx, yy in zip(true_positives, all_areas)]\n",
    "# tp_area_mean = [np.average(xx,weights=yy) for xx, yy in zip(tp_areas, all_areas)]\n",
    "\n",
    "tp_mean = [np.mean(xx) for xx in true_positives]\n",
    "tp_area_mean = [np.mean(xx) for xx in tp_areas]\n",
    "tp_area_mean = np.asarray(tp_area_mean)\n",
    "tp_area_mean /= tp_area_mean.max()\n",
    "tp_area_mean *= 100\n",
    "\n",
    "lgauc = [xx*100 for xx in lgauc]\n",
    "hgauc = [xx*100 for xx in hgauc]\n",
    "bnauc = [xx*100 for xx in bnauc]\n",
    "\n",
    "plt.scatter(thresholds, tp_area_mean, color='k', label='Mean TP Area (Scaled)')\n",
    "plt.scatter(thresholds, tp_mean, color='r', label='Mean TP \\% of Epithelium')\n",
    "plt.scatter(thresholds, lgauc, color='m', label='Low Grade \\& BN AUC (*100)')\n",
    "plt.scatter(thresholds, hgauc, color='b', label='High Grade AUC (*100)')\n",
    "# plt.scatter(thresholds, bnauc, color='g', label='BN AUC (*100)', s=15)\n",
    "\n",
    "plt.legend(loc=3, fontsize=14)\n",
    "plt.xlabel('Probability Threshold', fontsize=16)\n",
    "plt.title('AUC and True Positive Area\\nFCN-8s', fontsize=18)\n",
    "# plt.ylim([0, 100])\n",
    "\n",
    "plt.savefig('/Users/nathaning/Dropbox/_Papers/pca segmentation/Figs/wsi/AUC_TP_vs_threshold.pdf', bbox_inches='tight')"
   ]
  },
  {
   "cell_type": "code",
   "execution_count": 28,
   "metadata": {
    "collapsed": false,
    "scrolled": true
   },
   "outputs": [
    {
     "data": {
      "text/plain": [
       "<matplotlib.text.Text at 0x114948b90>"
      ]
     },
     "execution_count": 28,
     "metadata": {},
     "output_type": "execute_result"
    },
    {
     "data": {
      "image/png": "[encoded data removed]",
      "text/plain": [
       "<matplotlib.figure.Figure at 0x1175f1490>"
      ]
     },
     "metadata": {},
     "output_type": "display_data"
    }
   ],
   "source": [
    "rep_files = ['/Users/nathaning/Dropbox/projects/semantic_pca/results/fcn8s/_report_no_thresh.txt',\n",
    "             '/Users/nathaning/Dropbox/projects/semantic_pca/results/segnet_full/_report_no_thresh.txt',\n",
    "             '/Users/nathaning/Dropbox/projects/semantic_pca/results/segnet_basic/_report_no_thresh.txt',\n",
    "             '/Users/nathaning/Dropbox/projects/semantic_pca/results/segnet_basic_rotation/_report_no_thresh.txt'\n",
    "            ]\n",
    "names = ['FCN-8s',\n",
    "         'SegNet\\nFull',\n",
    "         'SegNet\\nBasic',\n",
    "         'SegNet\\nBasic +rot']\n",
    "tps = []   \n",
    "fig, ax = plt.subplots(1,1,figsize=(3,3))\n",
    "\n",
    "for rep_file in rep_files:\n",
    "    with open(rep_file, 'r') as f:\n",
    "        log = f.read()\n",
    "\n",
    "    tp = []\n",
    "\n",
    "    for r in re.findall(TP_pattern, log):\n",
    "        tp.append(float(r))\n",
    "    \n",
    "    tps.append(tp)\n",
    "    \n",
    "ax.boxplot(tps)\n",
    "ax.set_xticklabels(names)\n",
    "ax.set_ylabel('Annotation Accuracy')\n",
    "ax.set_title('Accuracy')\n",
    "\n",
    "\n",
    "\n",
    "# fig.savefig('/Users/nathaning/Dropbox/_Papers/pca segmentation/Figs/wsi/annot_accuracy.pdf', bbox_inches='tight')"
   ]
  },
  {
   "cell_type": "code",
   "execution_count": 36,
   "metadata": {
    "collapsed": false
   },
   "outputs": [
    {
     "data": {
      "text/plain": [
       "99"
      ]
     },
     "execution_count": 36,
     "metadata": {},
     "output_type": "execute_result"
    }
   ],
   "source": [
    "len(tps[0])"
   ]
  },
  {
   "cell_type": "code",
   "execution_count": 35,
   "metadata": {
    "collapsed": false
   },
   "outputs": [
    {
     "name": "stdout",
     "output_type": "stream",
     "text": [
      "Ttest_relResult(statistic=1.2663031575121773, pvalue=0.20840627612672774)\n",
      "Ttest_relResult(statistic=7.1606690295732882, pvalue=1.4927946198962975e-10)\n",
      "Ttest_relResult(statistic=4.8991200566287789, pvalue=3.8041130938552205e-06)\n",
      "Ttest_relResult(statistic=5.9523077926010126, pvalue=4.1165271855965024e-08)\n",
      "Ttest_relResult(statistic=3.7711793401671443, pvalue=0.00027799357732633125)\n",
      "Ttest_relResult(statistic=-8.2397987274874982, pvalue=7.7892352708871172e-13)\n"
     ]
    }
   ],
   "source": [
    "from scipy.stats import ttest_rel\n",
    "\n",
    "print ttest_rel(tps[0], tps[1]) # fcn vs full\n",
    "print ttest_rel(tps[0], tps[2]) # fcn vs basic\n",
    "print ttest_rel(tps[1], tps[2]) # full vs basic\n",
    "print ttest_rel(tps[0], tps[3]) # fcn vs +rot\n",
    "print ttest_rel(tps[1], tps[3]) # full vs +rot\n",
    "print ttest_rel(tps[2], tps[3]) # basic vs +rot"
   ]
  },
  {
   "cell_type": "code",
   "execution_count": 47,
   "metadata": {
    "collapsed": false
   },
   "outputs": [
    {
     "data": {
      "text/plain": [
       "array([ 94.94655556,  94.03682828,  88.52960606,  89.65533333])"
      ]
     },
     "execution_count": 47,
     "metadata": {},
     "output_type": "execute_result"
    }
   ],
   "source": [
    "np.mean(tps, axis=1)"
   ]
  },
  {
   "cell_type": "code",
   "execution_count": 48,
   "metadata": {
    "collapsed": false
   },
   "outputs": [
    {
     "data": {
      "text/plain": [
       "0.012556197160838115"
      ]
     },
     "execution_count": 48,
     "metadata": {},
     "output_type": "execute_result"
    }
   ],
   "source": [
    "(89.65533 - 88.52960) / 89.65533"
   ]
  },
  {
   "cell_type": "code",
   "execution_count": 44,
   "metadata": {
    "collapsed": false
   },
   "outputs": [
    {
     "data": {
      "image/png": "[encoded data removed]",
      "text/plain": [
       "<matplotlib.figure.Figure at 0x10ef6a1d0>"
      ]
     },
     "metadata": {},
     "output_type": "display_data"
    }
   ],
   "source": [
    "rep_files = ['/Users/nathaning/Dropbox/projects/semantic_pca/results/fcn8s/_report_no_thresh.txt',\n",
    "             '/Users/nathaning/Dropbox/projects/semantic_pca/results/segnet_full/_report_no_thresh.txt',\n",
    "             '/Users/nathaning/Dropbox/projects/semantic_pca/results/segnet_basic/_report_no_thresh.txt',\n",
    "             '/Users/nathaning/Dropbox/projects/semantic_pca/results/segnet_basic_rotation/_report_no_thresh.txt'\n",
    "            ]\n",
    "names = ['FCN-8s',\n",
    "         'SegNet\\nFull',\n",
    "         'SegNet\\nBasic',\n",
    "         'SegNet\\nBasic +rot']\n",
    "tps = []  \n",
    "total_areas = []\n",
    "epithelium_areas = []\n",
    "epith_density = []\n",
    "fig, ax = plt.subplots(1,1,figsize=(3,3))\n",
    "\n",
    "for rep_file in rep_files:\n",
    "    with open(rep_file, 'r') as f:\n",
    "        log = f.read()\n",
    "\n",
    "    tp = []\n",
    "    for r in re.findall(TP_pattern, log):\n",
    "        tp.append(float(r))\n",
    "    \n",
    "    tps.append(tp)\n",
    "    \n",
    "    total_area = []\n",
    "    epith_area = []\n",
    "    for r in re.findall(PATTERN, log):\n",
    "        epith_area.append(float(r[-1]))\n",
    "        \n",
    "    total_area = []\n",
    "    for r in re.findall(AREA_PATT, log):\n",
    "        total_area.append(float(r))\n",
    "        \n",
    "    total_areas.append(total_area)\n",
    "    epithelium_areas.append(epith_area)\n",
    "    \n",
    "    epith_density.append([100*ep/tot for ep, tot in zip(epith_area, total_area)])\n",
    "    \n",
    "ax.boxplot(epith_density)\n",
    "\n",
    "# ax.hist(epith_density[0], 5, alpha=0.3)\n",
    "# ax.hist(epith_density[1], 5, alpha=0.3)\n",
    "# ax.hist(epith_density[2], 5, alpha=0.3)\n",
    "\n",
    "# ax.violinplot(epith_density)\n",
    "\n",
    "ax.set_xticklabels(names)\n",
    "# ax.set_xlabel('Density')\n",
    "ax.set_ylabel('Density')\n",
    "ax.set_title('Epithelium Density')\n",
    "\n",
    "\n",
    "fig.savefig('/Users/nathaning/Dropbox/_Papers/pca segmentation/Figs/wsi/epi_density.pdf', bbox_inches='tight')"
   ]
  },
  {
   "cell_type": "markdown",
   "metadata": {},
   "source": [
    "I want the rate of misclassification, for each class\n",
    "\n",
    "for LG, how much LG annotation is HG, how much is BN, how much is ST\n",
    "\n",
    "--> ST should be constant."
   ]
  },
  {
   "cell_type": "code",
   "execution_count": 37,
   "metadata": {
    "collapsed": false
   },
   "outputs": [
    {
     "name": "stdout",
     "output_type": "stream",
     "text": [
      "/Users/nathaning/Dropbox/projects/semantic_pca/results/fcn8s\n",
      "[[ 624992   72399    2579]\n",
      " [  59134 6954322   44109]\n",
      " [  63233  151835 1568432]]\n",
      "/Users/nathaning/Dropbox/projects/semantic_pca/results/segnet_full\n",
      "[[ 670298   84593    3705]\n",
      " [ 198509 6542703  222971]\n",
      " [  86275   74329 1847650]]\n",
      "/Users/nathaning/Dropbox/projects/semantic_pca/results/segnet_basic\n",
      "[[ 474302  239998    5551]\n",
      " [ 158191 6312960  110078]\n",
      " [ 217803  241728 1261461]]\n",
      "/Users/nathaning/Dropbox/projects/semantic_pca/results/segnet_basic_rotation\n",
      "[[ 482653  225415    3713]\n",
      " [ 114380 6408554   74966]\n",
      " [ 191553  242587 1270613]]\n"
     ]
    }
   ],
   "source": [
    "from sklearn.metrics import confusion_matrix\n",
    "def epith_area(mask):\n",
    "    area = 0\n",
    "    for k in [0,1,2]:\n",
    "        area += (mask==k).sum()\n",
    "        \n",
    "    return area\n",
    "\n",
    "annot_list = sorted(glob.glob('/Users/nathaning/Dropbox/projects/semantic_pca/data/annotations/wsi_annotation/*.png'))\n",
    "paths = [\n",
    "    '/Users/nathaning/Dropbox/projects/semantic_pca/results/fcn8s',\n",
    "    '/Users/nathaning/Dropbox/projects/semantic_pca/results/segnet_full',\n",
    "    '/Users/nathaning/Dropbox/projects/semantic_pca/results/segnet_basic',\n",
    "    '/Users/nathaning/Dropbox/projects/semantic_pca/results/segnet_basic_rotation'\n",
    "            ]\n",
    "area_lists = [\n",
    "    [],\n",
    "    [],\n",
    "    [],\n",
    "    []\n",
    "]\n",
    "\n",
    "# misclassifications = {\n",
    "#     0: {1:0, 2:0, 3:0},\n",
    "#     1: {0:0, 2:0, 3:0},\n",
    "#     2: {0:0, 1:0, 3:0},\n",
    "# }\n",
    "\n",
    "for path_, areas_ in zip(paths, area_lists):\n",
    "#     path_ = paths[0]\n",
    "    print path_\n",
    "    \n",
    "    annotation_set = []\n",
    "    prediction_set = []\n",
    "    probs = sorted(glob.glob(path_+'/*argmax.png'))\n",
    "    tissu = sorted(glob.glob(path_+'/*tissue.png'))\n",
    "\n",
    "    for prob, tiss, anno in zip(probs, tissu, annot_list):\n",
    "#     prob = probs[0]\n",
    "#     tiss = tissu[0]\n",
    "#     anno = annot_list[0]\n",
    "        prob = cv2.imread(prob, -1)\n",
    "        tiss = cv2.imread(tiss, -1)\n",
    "        anno = cv2.imread(anno, -1)\n",
    "        areas_.append(\n",
    "            epith_area(prob)/float((tiss>1).sum()) )\n",
    "\n",
    "        # If anno has 4, make it 255\n",
    "        anno[anno==4] = 255\n",
    "        # Throw away anno = 255 and prob = 3\n",
    "        use_mask = np.ones_like(anno, dtype=np.bool)\n",
    "        use_mask[anno == 255] = False\n",
    "        use_mask[prob == 3] = False\n",
    "        anno = anno[use_mask]\n",
    "        prob = prob[use_mask]\n",
    "\n",
    "        # If anno has 2, make it 1\n",
    "        anno[anno==2] = 1\n",
    "        # If anno has 3, make it 2\n",
    "        anno[anno==3] = 2\n",
    "\n",
    "        annotation_set.append(anno.ravel())\n",
    "        prediction_set.append(prob.ravel())\n",
    "\n",
    "    annotation_set = np.hstack(annotation_set)\n",
    "    prediction_set = np.hstack(prediction_set)\n",
    "\n",
    "    print confusion_matrix(annotation_set, prediction_set)"
   ]
  },
  {
   "cell_type": "code",
   "execution_count": 33,
   "metadata": {
    "collapsed": false
   },
   "outputs": [
    {
     "name": "stdout",
     "output_type": "stream",
     "text": [
      "/Users/nathaning/Dropbox/projects/semantic_pca/data/annotations/wsi_annotation/1304700.png\n",
      "[  0   3 255]\n",
      "[0 1 2 3]\n"
     ]
    }
   ],
   "source": [
    "annot_list = sorted(glob.glob('/Users/nathaning/Dropbox/projects/semantic_pca/data/annotations/wsi_annotation/*.png'))\n",
    "annot = annot_list[0]\n",
    "print annot\n",
    "\n",
    "annot = cv2.imread(annot,-1)\n",
    "print np.unique(annot)\n",
    "print np.unique(prob)"
   ]
  },
  {
   "cell_type": "code",
   "execution_count": 28,
   "metadata": {
    "collapsed": false
   },
   "outputs": [
    {
     "name": "stdout",
     "output_type": "stream",
     "text": [
      "Ttest_relResult(statistic=-1.2345949663379616, pvalue=0.22689188361467649)\n",
      "Ttest_relResult(statistic=-0.12624731931411196, pvalue=0.90040738935701004)\n",
      "Ttest_relResult(statistic=0.74494394088488269, pvalue=0.46230052047772241)\n"
     ]
    }
   ],
   "source": [
    "from scipy.stats import ttest_rel\n",
    "\n",
    "print ttest_rel(area_lists[0], area_lists[1])\n",
    "print ttest_rel(area_lists[0], area_lists[2])\n",
    "print ttest_rel(area_lists[1], area_lists[2])"
   ]
  },
  {
   "cell_type": "code",
   "execution_count": 41,
   "metadata": {
    "collapsed": false
   },
   "outputs": [
    {
     "data": {
      "text/plain": [
       "<matplotlib.text.Text at 0x11619fd90>"
      ]
     },
     "execution_count": 41,
     "metadata": {},
     "output_type": "execute_result"
    },
    {
     "data": {
      "image/png": "[encoded data removed]",
      "text/plain": [
       "<matplotlib.figure.Figure at 0x1189f5f50>"
      ]
     },
     "metadata": {},
     "output_type": "display_data"
    }
   ],
   "source": [
    "accs = [0.873, 0.822, 0.762, 0.885]\n",
    "jacc = [0.759, 0.738, 0.721, 0.652]\n",
    "jaccB = [0.927, 0.917, 0.897]\n",
    "wsi_miou = [0.857, 0.796, 0.671]\n",
    "\n",
    "params = [134477364,31025088,29429440,1415104]\n",
    "params_nounet = [134477364,29429440,1415104]\n",
    "sgd_updates = [115000, 75000, 65000]\n",
    "train_ex = [115000*1, 75000*6, 65000*16]\n",
    "labels = ['FCN-8s', 'SegNet-Full', 'SegNet-Basic', 'U-Net']\n",
    "\n",
    "fig, ax = plt.subplots(1,1,figsize=(5,5))\n",
    "\n",
    "ax.tick_params(axis='both', which='major', labelsize=16)\n",
    "# ax.plot(params, accs, marker='o', label='Accuracy $10$X')\n",
    "# ax.plot(np.log(params), jacc, marker='o', label='Tiles $10$X')\n",
    "ax.plot(params, jacc, marker='o', label='Tiles $10$X')\n",
    "# ax.plot(params, jaccB, marker='o', label='mIOU$^B$ $10$X')\n",
    "# ax.plot(np.log(params_nounet), wsi_miou, marker='o', ls='--', label='WSI')\n",
    "ax.plot(params_nounet, wsi_miou, marker='o', ls='--', label='WSI')\n",
    "\n",
    "# ax.tick_params(axis='both', which='major', labelsize=16)\n",
    "# ax.plot(params, accs, marker='x', label='Accuracy $10$X')\n",
    "# ax.plot(params, jacc, marker='x', label='mIOU $10$X')\n",
    "# ax.plot(params, jaccB, marker='x', label='mIOU$^B$ $10$X')\n",
    "\n",
    "\n",
    "ax.legend(loc=4)\n",
    "ax.set_title('Performance per \\n\\# Network Parameters', fontsize=18)\n",
    "ax.set_xlabel(u'Number of Network Parameters (log_e)', fontsize=16)\n",
    "ax.set_ylabel('mIOU', fontsize=16)\n",
    "\n",
    "# fig.savefig('/Users/nathaning/Dropbox/_Papers/pca segmentation/Figs/tile_performance/tile_perf_per_param.pdf', bbox_inches='tight')\n",
    "\n",
    "\n",
    "\n",
    "# fig, ax = plt.subplots(1,1,figsize=(5,5))\n",
    "\n",
    "# ax.tick_params(axis='both', which='major', labelsize=16)\n",
    "# ax.ticklabel_format(style='sci', axis='x', scilimits=(0,0))\n",
    "# ax.plot(sgd_updates, accs, marker='o', label='Accuracy $10$X')\n",
    "# ax.plot(sgd_updates, jacc, marker='o', label='mIOU $10$X')\n",
    "# ax.plot(sgd_updates, jaccB, marker='o', label='mIOU$^B$ $10$X')\n",
    "\n",
    "# ax.legend(loc=4)\n",
    "# ax.set_title('Performance per \\nSGD Updates', fontsize=18)\n",
    "# ax.set_xlabel('Number of SGD Updates', fontsize=16)\n",
    "# ax.set_ylabel('Metric Score', fontsize=16)\n",
    "\n",
    "# fig.savefig('/Users/nathaning/Dropbox/_Papers/pca segmentation/Figs/tile_performance/tile_perf_per_SGD.pdf', bbox_inches='tight')\n",
    "\n",
    "\n",
    "# fig, ax = plt.subplots(1,1,figsize=(5,5))\n",
    "\n",
    "# ax.tick_params(axis='both', which='major', labelsize=16)\n",
    "# ax.ticklabel_format(style='sci', axis='x', scilimits=(0,0))\n",
    "# ax.plot(train_ex, accs, marker='o', label='Accuracy $10$X')\n",
    "# ax.plot(train_ex, jacc, marker='o', label='mIOU $10$X')\n",
    "# ax.plot(train_ex, jaccB, marker='o', label='mIOU$^B$ $10$X')\n",
    "\n",
    "# ax.legend(loc=4)\n",
    "# ax.set_title('Performance per \\nTrainig Examples', fontsize=18)\n",
    "# ax.set_xlabel('Number of Training Examples', fontsize=16)\n",
    "# ax.set_ylabel('Metric Score', fontsize=16)\n",
    "\n",
    "# fig.savefig('/Users/nathaning/Dropbox/_Papers/pca segmentation/Figs/tile_performance/tile_perf_per_examples.pdf', bbox_inches='tight')"
   ]
  },
  {
   "cell_type": "code",
   "execution_count": 14,
   "metadata": {
    "collapsed": false
   },
   "outputs": [
    {
     "data": {
      "text/plain": [
       "1.0"
      ]
     },
     "execution_count": 14,
     "metadata": {},
     "output_type": "execute_result"
    }
   ],
   "source": [
    "np.log(np.e)"
   ]
  },
  {
   "cell_type": "code",
   "execution_count": 42,
   "metadata": {
    "collapsed": false
   },
   "outputs": [
    {
     "data": {
      "text/plain": [
       "0.023035230352303544"
      ]
     },
     "execution_count": 42,
     "metadata": {},
     "output_type": "execute_result"
    }
   ],
   "source": [
    "(0.738-0.721)/0.738"
   ]
  },
  {
   "cell_type": "code",
   "execution_count": null,
   "metadata": {
    "collapsed": true
   },
   "outputs": [],
   "source": []
  }
 ],
 "metadata": {
  "kernelspec": {
   "display_name": "Python 2",
   "language": "python",
   "name": "python2"
  },
  "language_info": {
   "codemirror_mode": {
    "name": "ipython",
    "version": 2
   },
   "file_extension": ".py",
   "mimetype": "text/x-python",
   "name": "python",
   "nbconvert_exporter": "python",
   "pygments_lexer": "ipython2",
   "version": "2.7.13"
  }
 },
 "nbformat": 4,
 "nbformat_minor": 2
}
