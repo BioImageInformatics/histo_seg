{
 "cells": [
  {
   "cell_type": "markdown",
   "metadata": {},
   "source": [
    "# Count caffe parameters\n",
    "\n",
    "https://gist.github.com/kaushikpavani/a6a32bd87fdfe5529f0e908ed743f779"
   ]
  },
  {
   "cell_type": "code",
   "execution_count": 1,
   "metadata": {
    "collapsed": true
   },
   "outputs": [],
   "source": [
    "import sys\n",
    "sys.path.insert(0, '/Users/nathaning/software/caffe-segnet-crf/python')\n",
    "import caffe\n",
    "caffe.set_mode_cpu()\n",
    "import numpy as np\n",
    "from numpy import prod, sum\n",
    "from pprint import pprint\n",
    "\n",
    "def print_net_parameters (deploy_file):\n",
    "    print \"Net: \" + deploy_file\n",
    "    net = caffe.Net(deploy_file, caffe.TEST)\n",
    "    print \"Layer-wise parameters: \"\n",
    "    pprint([(k, v[0].data.shape) for k, v in net.params.items()])\n",
    "    print \"Total number of parameters: \" + str(sum([prod(v[0].data.shape) for k, v in net.params.items()]))\n",
    "    "
   ]
  },
  {
   "cell_type": "code",
   "execution_count": 1,
   "metadata": {
    "collapsed": false
   },
   "outputs": [
    {
     "name": "stdout",
     "output_type": "stream",
     "text": [
      "Net: /Users/nathaning/Dropbox/projects/semantic_pca/figures/fcn8s_deploy.prototxt\n",
      "Layer-wise parameters: \n",
      "[('conv1_1', (64, 3, 3, 3)),\n",
      " ('conv1_2', (64, 64, 3, 3)),\n",
      " ('conv2_1', (128, 64, 3, 3)),\n",
      " ('conv2_2', (128, 128, 3, 3)),\n",
      " ('conv3_1', (256, 128, 3, 3)),\n",
      " ('conv3_2', (256, 256, 3, 3)),\n",
      " ('conv3_3', (256, 256, 3, 3)),\n",
      " ('conv4_1', (512, 256, 3, 3)),\n",
      " ('conv4_2', (512, 512, 3, 3)),\n",
      " ('conv4_3', (512, 512, 3, 3)),\n",
      " ('conv5_1', (512, 512, 3, 3)),\n",
      " ('conv5_2', (512, 512, 3, 3)),\n",
      " ('conv5_3', (512, 512, 3, 3)),\n",
      " ('fc6', (4096, 512, 7, 7)),\n",
      " ('fc7', (4096, 4096, 1, 1)),\n",
      " ('score_fr', (21, 4096, 1, 1)),\n",
      " ('upscore2', (21, 21, 4, 4)),\n",
      " ('score_pool4', (21, 512, 1, 1)),\n",
      " ('upscore_pool4', (21, 21, 4, 4)),\n",
      " ('score_pool3', (21, 256, 1, 1)),\n",
      " ('upscore8', (21, 21, 16, 16)),\n",
      " ('score_12classes', (4, 21, 1, 1))]\n",
      "Total number of parameters: 134477364\n"
     ]
    }
   ],
   "source": [
    "deploy_file = \"/Users/nathaning/Dropbox/projects/semantic_pca/figures/fcn8s_deploy.prototxt\"\n",
    "print_net_parameters(deploy_file)\n",
    "\n",
    "# Sample output:\n",
    "# Net: /home/ubuntu/deploy.prototxt\n",
    "# Layer-wise parameters: \n",
    "#[('conv1', (96, 3, 11, 11)),\n",
    "# ('conv2', (256, 48, 5, 5)),\n",
    "# ('conv3', (384, 256, 3, 3)),\n",
    "# ('conv4', (384, 192, 3, 3)),\n",
    "# ('conv5', (256, 192, 3, 3)),\n",
    "# ('fc6', (4096, 9216)),\n",
    "# ('fc7', (4096, 4096)),\n",
    "# ('fc8', (819, 4096))]\n",
    "# Total number of parameters: 60213280"
   ]
  },
  {
   "cell_type": "code",
   "execution_count": 2,
   "metadata": {
    "collapsed": false
   },
   "outputs": [
    {
     "name": "stdout",
     "output_type": "stream",
     "text": [
      "Net: /Users/nathaning/Dropbox/projects/semantic_pca/figures/segnet_basic_deploy.prototxt\n",
      "Layer-wise parameters: \n",
      "[('conv1', (64, 3, 7, 7)),\n",
      " ('conv1_bn', (1, 64, 1, 1)),\n",
      " ('conv2', (64, 64, 7, 7)),\n",
      " ('conv2_bn', (1, 64, 1, 1)),\n",
      " ('conv3', (64, 64, 7, 7)),\n",
      " ('conv3_bn', (1, 64, 1, 1)),\n",
      " ('conv4', (64, 64, 7, 7)),\n",
      " ('conv4_bn', (1, 64, 1, 1)),\n",
      " ('conv_decode4', (64, 64, 7, 7)),\n",
      " ('conv_decode4_bn', (1, 64, 1, 1)),\n",
      " ('conv_decode3', (64, 64, 7, 7)),\n",
      " ('conv_decode3_bn', (1, 64, 1, 1)),\n",
      " ('conv_decode2', (64, 64, 7, 7)),\n",
      " ('conv_decode2_bn', (1, 64, 1, 1)),\n",
      " ('conv_decode1', (64, 64, 7, 7)),\n",
      " ('conv_decode1_bn', (1, 64, 1, 1)),\n",
      " ('conv_classifier', (4, 64, 1, 1))]\n",
      "Total number of parameters: 1415104\n"
     ]
    }
   ],
   "source": [
    "deploy_file = \"/Users/nathaning/Dropbox/projects/semantic_pca/figures/segnet_basic_deploy.prototxt\"\n",
    "print_net_parameters(deploy_file)"
   ]
  },
  {
   "cell_type": "code",
   "execution_count": 2,
   "metadata": {
    "collapsed": false,
    "scrolled": true
   },
   "outputs": [
    {
     "name": "stdout",
     "output_type": "stream",
     "text": [
      "Net: /Users/nathaning/Dropbox/projects/semantic_pca/figures/segnet_deploy.prototxt\n",
      "Layer-wise parameters: \n",
      "[('conv1_1', (64, 3, 3, 3)),\n",
      " ('conv1_1_bn', (1, 64, 1, 1)),\n",
      " ('conv1_2', (64, 64, 3, 3)),\n",
      " ('conv1_2_bn', (1, 64, 1, 1)),\n",
      " ('conv2_1', (128, 64, 3, 3)),\n",
      " ('conv2_1_bn', (1, 128, 1, 1)),\n",
      " ('conv2_2', (128, 128, 3, 3)),\n",
      " ('conv2_2_bn', (1, 128, 1, 1)),\n",
      " ('conv3_1', (256, 128, 3, 3)),\n",
      " ('conv3_1_bn', (1, 256, 1, 1)),\n",
      " ('conv3_2', (256, 256, 3, 3)),\n",
      " ('conv3_2_bn', (1, 256, 1, 1)),\n",
      " ('conv3_3', (256, 256, 3, 3)),\n",
      " ('conv3_3_bn', (1, 256, 1, 1)),\n",
      " ('conv4_1', (512, 256, 3, 3)),\n",
      " ('conv4_1_bn', (1, 512, 1, 1)),\n",
      " ('conv4_2', (512, 512, 3, 3)),\n",
      " ('conv4_2_bn', (1, 512, 1, 1)),\n",
      " ('conv4_3', (512, 512, 3, 3)),\n",
      " ('conv4_3_bn', (1, 512, 1, 1)),\n",
      " ('conv5_1', (512, 512, 3, 3)),\n",
      " ('conv5_1_bn', (1, 512, 1, 1)),\n",
      " ('conv5_2', (512, 512, 3, 3)),\n",
      " ('conv5_2_bn', (1, 512, 1, 1)),\n",
      " ('conv5_3', (512, 512, 3, 3)),\n",
      " ('conv5_3_bn', (1, 512, 1, 1)),\n",
      " ('conv5_3_D', (512, 512, 3, 3)),\n",
      " ('conv5_3_D_bn', (1, 512, 1, 1)),\n",
      " ('conv5_2_D', (512, 512, 3, 3)),\n",
      " ('conv5_2_D_bn', (1, 512, 1, 1)),\n",
      " ('conv5_1_D', (512, 512, 3, 3)),\n",
      " ('conv5_1_D_bn', (1, 512, 1, 1)),\n",
      " ('conv4_3_D', (512, 512, 3, 3)),\n",
      " ('conv4_3_D_bn', (1, 512, 1, 1)),\n",
      " ('conv4_2_D', (512, 512, 3, 3)),\n",
      " ('conv4_2_D_bn', (1, 512, 1, 1)),\n",
      " ('conv4_1_D', (256, 512, 3, 3)),\n",
      " ('conv4_1_D_bn', (1, 256, 1, 1)),\n",
      " ('conv3_3_D', (256, 256, 3, 3)),\n",
      " ('conv3_3_D_bn', (1, 256, 1, 1)),\n",
      " ('conv3_2_D', (256, 256, 3, 3)),\n",
      " ('conv3_2_D_bn', (1, 256, 1, 1)),\n",
      " ('conv3_1_D', (128, 256, 3, 3)),\n",
      " ('conv3_1_D_bn', (1, 128, 1, 1)),\n",
      " ('conv2_2_D', (128, 128, 3, 3)),\n",
      " ('conv2_2_D_bn', (1, 128, 1, 1)),\n",
      " ('conv2_1_D', (64, 128, 3, 3)),\n",
      " ('conv2_1_D_bn', (1, 64, 1, 1)),\n",
      " ('conv1_2_D', (64, 64, 3, 3)),\n",
      " ('conv1_2_D_bn', (1, 64, 1, 1)),\n",
      " ('conv1_1_D_pca', (4, 64, 3, 3))]\n",
      "Total number of parameters: 29429440\n"
     ]
    }
   ],
   "source": [
    "## SegNet tries to use CUDNN. explicitly set engine:CAFFE in the convolutions\n",
    "## Or else, use caffe.set_mode_gpu()\n",
    "deploy_file = \"/Users/nathaning/Dropbox/projects/semantic_pca/figures/segnet_deploy.prototxt\"\n",
    "print_net_parameters(deploy_file)"
   ]
  },
  {
   "cell_type": "code",
   "execution_count": 2,
   "metadata": {
    "collapsed": false
   },
   "outputs": [
    {
     "name": "stdout",
     "output_type": "stream",
     "text": [
      "Net: /Users/nathaning/Dropbox/projects/semantic_pca/figures/unet_deploy.prototxt\n",
      "Layer-wise parameters: \n",
      "[('conv_d0a-b', (64, 3, 3, 3)),\n",
      " ('conv_d0b-c', (64, 64, 3, 3)),\n",
      " ('conv_d1a-b', (128, 64, 3, 3)),\n",
      " ('conv_d1b-c', (128, 128, 3, 3)),\n",
      " ('conv_d2a-b', (256, 128, 3, 3)),\n",
      " ('conv_d2b-c', (256, 256, 3, 3)),\n",
      " ('conv_d3a-b', (512, 256, 3, 3)),\n",
      " ('conv_d3b-c', (512, 512, 3, 3)),\n",
      " ('conv_d4a-b', (1024, 512, 3, 3)),\n",
      " ('conv_d4b-c', (1024, 1024, 3, 3)),\n",
      " ('upconv_d4c_u3a', (1024, 512, 2, 2)),\n",
      " ('conv_u3b-c', (512, 1024, 3, 3)),\n",
      " ('conv_u3c-d', (512, 512, 3, 3)),\n",
      " ('upconv_u3d_u2a', (512, 256, 2, 2)),\n",
      " ('conv_u2b-c', (256, 512, 3, 3)),\n",
      " ('conv_u2c-d', (256, 256, 3, 3)),\n",
      " ('upconv_u2d_u1a', (256, 128, 2, 2)),\n",
      " ('conv_u1b-c', (128, 256, 3, 3)),\n",
      " ('conv_u1c-d', (128, 128, 3, 3)),\n",
      " ('upconv_u1d_u0a_NEW', (128, 64, 2, 2)),\n",
      " ('conv_u0b-c_New', (64, 128, 3, 3)),\n",
      " ('conv_u0c-d_New', (64, 64, 3, 3)),\n",
      " ('conv_u0d-score_New', (4, 64, 1, 1))]\n",
      "Total number of parameters: 31025088\n"
     ]
    }
   ],
   "source": [
    "deploy_file = \"/Users/nathaning/Dropbox/projects/semantic_pca/figures/unet_deploy.prototxt\"\n",
    "print_net_parameters(deploy_file)"
   ]
  },
  {
   "cell_type": "code",
   "execution_count": 5,
   "metadata": {
    "collapsed": false
   },
   "outputs": [
    {
     "data": {
      "text/plain": [
       "6000000"
      ]
     },
     "execution_count": 5,
     "metadata": {},
     "output_type": "execute_result"
    }
   ],
   "source": [
    "2000*3000"
   ]
  },
  {
   "cell_type": "code",
   "execution_count": 7,
   "metadata": {
    "collapsed": false
   },
   "outputs": [
    {
     "data": {
      "text/plain": [
       "0.07328571428571429"
      ]
     },
     "execution_count": 7,
     "metadata": {},
     "output_type": "execute_result"
    }
   ],
   "source": [
    "513 / 7000."
   ]
  },
  {
   "cell_type": "code",
   "execution_count": null,
   "metadata": {
    "collapsed": true
   },
   "outputs": [],
   "source": []
  }
 ],
 "metadata": {
  "kernelspec": {
   "display_name": "caffe",
   "language": "python",
   "name": "caffe"
  },
  "language_info": {
   "codemirror_mode": {
    "name": "ipython",
    "version": 2
   },
   "file_extension": ".py",
   "mimetype": "text/x-python",
   "name": "python",
   "nbconvert_exporter": "python",
   "pygments_lexer": "ipython2",
   "version": "2.7.13"
  }
 },
 "nbformat": 4,
 "nbformat_minor": 2
}
