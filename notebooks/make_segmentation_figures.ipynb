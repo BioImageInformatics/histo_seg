{
 "cells": [
  {
   "cell_type": "code",
   "execution_count": 2,
   "metadata": {
    "collapsed": false
   },
   "outputs": [
    {
     "data": {
      "text/html": [
       "<style>.container { width:100% !important; }</style>"
      ],
      "text/plain": [
       "<IPython.core.display.HTML object>"
      ]
     },
     "metadata": {},
     "output_type": "display_data"
    }
   ],
   "source": [
    "from IPython.core.display import display, HTML\n",
    "display(HTML(\"<style>.container { width:100% !important; }</style>\"))"
   ]
  },
  {
   "cell_type": "markdown",
   "metadata": {},
   "source": [
    "# Make Segmentation Figures"
   ]
  },
  {
   "cell_type": "markdown",
   "metadata": {},
   "source": [
    "### Tiles"
   ]
  },
  {
   "cell_type": "code",
   "execution_count": 13,
   "metadata": {
    "collapsed": true
   },
   "outputs": [],
   "source": [
    "import cv2\n",
    "import numpy\n",
    "import os, sys, glob\n",
    "import numpy as np\n",
    "\n",
    "%matplotlib inline\n",
    "from matplotlib import pyplot as plt"
   ]
  },
  {
   "cell_type": "code",
   "execution_count": 28,
   "metadata": {
    "collapsed": false
   },
   "outputs": [
    {
     "name": "stdout",
     "output_type": "stream",
     "text": [
      "103 103 103 103 103\n"
     ]
    }
   ],
   "source": [
    "imglist = sorted(glob.glob('/Users/nathaning/Dropbox/projects/semantic_pca/results/xval_set_0_val/jpg/*jpg'))\n",
    "gtlist = sorted(glob.glob('/Users/nathaning/Dropbox/projects/semantic_pca/results/xval_set_0_val/mask/*png'))\n",
    "\n",
    "fcn_512_list = sorted(glob.glob('/Users/nathaning/Dropbox/projects/semantic_pca/results/analysis_fcn/xval_set_0_1024/*png'))\n",
    "segnet_512_list = sorted(glob.glob('/Users/nathaning/Dropbox/projects/semantic_pca/results/analysis_segnet/xval_set_0_1024/*png'))\n",
    "segnet_basic_512_list = sorted(glob.glob('/Users/nathaning/Dropbox/projects/semantic_pca/results/analysis_segnet_basic/xval_set_0_1024/*png'))\n",
    "\n",
    "print len(imglist), len(gtlist), len(fcn_512_list), len(segnet_512_list), len(segnet_basic_512_list)"
   ]
  },
  {
   "cell_type": "code",
   "execution_count": 17,
   "metadata": {
    "collapsed": true
   },
   "outputs": [],
   "source": [
    "def colorize(mask):\n",
    "    colors={\n",
    "        0: [30, 30, 234],\n",
    "        1: [63, 210, 68],\n",
    "        2: [245, 25, 70],\n",
    "        3: [210, 210, 210]\n",
    "    }\n",
    "    \n",
    "    img = np.zeros_like(mask, dtype=np.uint8)\n",
    "    img = np.dstack([img, img, img])\n",
    "    \n",
    "    for u in np.unique(mask):\n",
    "        img[(mask == u), :] = colors[u]\n",
    "        \n",
    "    return img\n",
    "    "
   ]
  },
  {
   "cell_type": "code",
   "execution_count": 29,
   "metadata": {
    "collapsed": false
   },
   "outputs": [],
   "source": [
    "outpath = '/Users/nathaning/Dropbox/_Papers/pca segmentation/Figs/tile_segmentations/xval_0_1024'\n",
    "for imgp, gtp, fcnp, segnetp, segnetbp in zip(\n",
    "    imglist, gtlist, fcn_512_list, segnet_512_list, segnet_basic_512_list):\n",
    "\n",
    "#     imgp = imglist[0]\n",
    "#     gtp = gtlist[0]\n",
    "#     fcnp = fcn_512_list[0]\n",
    "#     segnetp = segnet_512_list[0]\n",
    "#     segnetbp = segnet_basic_512_list[0]\n",
    "    img_base = os.path.basename(imgp)\n",
    "    outfile = os.path.join(outpath, img_base.replace('.jpg', '.png'))\n",
    "\n",
    "    img = cv2.imread(imgp)[:,:,::-1]\n",
    "    gt = cv2.imread(gtp, -1)\n",
    "    fcn = cv2.imread(fcnp, -1)\n",
    "    segnet = cv2.imread(segnetp, -1)\n",
    "    segnetb = cv2.imread(segnetbp, -1)\n",
    "\n",
    "    size = 300\n",
    "    img = cv2.resize(img, dsize=(size,size))\n",
    "    gt = cv2.resize(gt, dsize=(size,size), interpolation=cv2.INTER_NEAREST)\n",
    "    fcn = cv2.resize(fcn, dsize=(size,size), interpolation=cv2.INTER_NEAREST)\n",
    "    segnet = cv2.resize(segnet, dsize=(size,size), interpolation=cv2.INTER_NEAREST)\n",
    "    segnetb = cv2.resize(segnetb, dsize=(size,size), interpolation=cv2.INTER_NEAREST)\n",
    "\n",
    "    gt = colorize(gt)\n",
    "    fcn = colorize(fcn)\n",
    "    segnet = colorize(segnet)\n",
    "    segnetb = colorize(segnetb)\n",
    "\n",
    "    img_= cv2.copyMakeBorder(img,10,10,10,10,cv2.BORDER_CONSTANT,value=(255,255,255))\n",
    "    gt_ = cv2.copyMakeBorder(gt,10,10,10,10,cv2.BORDER_CONSTANT,value=(255,255,255))\n",
    "    fcn_ = cv2.copyMakeBorder(fcn,10,10,10,10,cv2.BORDER_CONSTANT,value=(255,255,255))\n",
    "    segnet_ = cv2.copyMakeBorder(segnet,10,10,10,10,cv2.BORDER_CONSTANT,value=(255,255,255))\n",
    "    segnetb_ = cv2.copyMakeBorder(segnetb,10,10,10,10,cv2.BORDER_CONSTANT,value=(255,255,255))\n",
    "    \n",
    "    imgout = np.vstack([img_, gt_, fcn_, segnet_, segnetb_])\n",
    "    \n",
    "    cv2.imwrite(outfile, imgout[:,:,::-1])"
   ]
  },
  {
   "cell_type": "code",
   "execution_count": 23,
   "metadata": {
    "collapsed": false,
    "scrolled": false
   },
   "outputs": [
    {
     "data": {
      "text/plain": [
       "<matplotlib.image.AxesImage at 0x116cba810>"
      ]
     },
     "execution_count": 23,
     "metadata": {},
     "output_type": "execute_result"
    },
    {
     "data": {
      "image/png": "[encoded data removed]",
      "text/plain": [
       "<matplotlib.figure.Figure at 0x116c530d0>"
      ]
     },
     "metadata": {},
     "output_type": "display_data"
    }
   ],
   "source": [
    "plt.imshow(np.vstack([img_, gt_, fcn_, segnet_, segnetb_]))"
   ]
  },
  {
   "cell_type": "markdown",
   "metadata": {},
   "source": [
    "# WSI"
   ]
  },
  {
   "cell_type": "code",
   "execution_count": 51,
   "metadata": {
    "collapsed": true
   },
   "outputs": [],
   "source": [
    "annot_list = sorted(glob.glob('/Users/nathaning/Dropbox/projects/semantic_pca/data/annotations/wsi_annotation/*.jpg'))\n",
    "fcn_list = sorted(glob.glob('/Users/nathaning/Dropbox/projects/semantic_pca/results/fcn8s/*RGB.png'))\n",
    "full_list = sorted(glob.glob('/Users/nathaning/Dropbox/projects/semantic_pca/results/segnet_full/*RGB.png'))\n",
    "basic_list = sorted(glob.glob('/Users/nathaning/Dropbox/projects/semantic_pca/results/segnet_basic/*RGB.png'))"
   ]
  },
  {
   "cell_type": "code",
   "execution_count": 52,
   "metadata": {
    "collapsed": false
   },
   "outputs": [],
   "source": [
    "outpath = '/Users/nathaning/Dropbox/_Papers/pca segmentation/Figs/wsi/figs'\n",
    "for annotp, fcnp, fullp, basicp in zip(\n",
    "    annot_list, fcn_list, full_list, basic_list):\n",
    "\n",
    "# annotp = annot_list[0]\n",
    "# fcnp = fcn_list[0]\n",
    "# fullp = full_list[0]\n",
    "# basicp = basic_list[0]\n",
    "    \n",
    "    outname = os.path.basename(annotp)\n",
    "\n",
    "    annot = cv2.imread(annotp)\n",
    "    fcn = cv2.imread(fcnp)\n",
    "    full = cv2.imread(fullp)\n",
    "    basic = cv2.imread(basicp)\n",
    "\n",
    "    targ_y = 600.\n",
    "    x,y = annot.shape[:2]\n",
    "\n",
    "    r = targ_y / y\n",
    "\n",
    "    annot = cv2.resize(annot, dsize=(0,0), fx=r, fy=r)\n",
    "    fcn = cv2.resize(fcn, dsize=(0,0), fx=r, fy=r, interpolation=cv2.INTER_NEAREST)\n",
    "    full = cv2.resize(full, dsize=(0,0), fx=r, fy=r, interpolation=cv2.INTER_NEAREST)\n",
    "    basic = cv2.resize(basic, dsize=(0,0), fx=r, fy=r, interpolation=cv2.INTER_NEAREST)\n",
    "\n",
    "    annot_ = cv2.copyMakeBorder(annot,10,10,10,10,cv2.BORDER_CONSTANT,value=(255,255,255))\n",
    "    fcn_ = cv2.copyMakeBorder(fcn,10,10,10,10,cv2.BORDER_CONSTANT,value=(255,255,255))\n",
    "    full_ = cv2.copyMakeBorder(full,10,10,10,10,cv2.BORDER_CONSTANT,value=(255,255,255))\n",
    "    basic_ = cv2.copyMakeBorder(basic,10,10,10,10,cv2.BORDER_CONSTANT,value=(255,255,255))\n",
    "\n",
    "    outimg = np.vstack([annot_, fcn_, full_, basic_])\n",
    "    \n",
    "    outname = os.path.join(outpath, outname)\n",
    "    \n",
    "    cv2.imwrite(outname, outimg)\n",
    "\n",
    "#     plt.imshow(outimg)"
   ]
  },
  {
   "cell_type": "code",
   "execution_count": 40,
   "metadata": {
    "collapsed": false
   },
   "outputs": [
    {
     "data": {
      "text/plain": [
       "2988"
      ]
     },
     "execution_count": 40,
     "metadata": {},
     "output_type": "execute_result"
    }
   ],
   "source": [
    "y"
   ]
  },
  {
   "cell_type": "code",
   "execution_count": 39,
   "metadata": {
    "collapsed": false,
    "scrolled": true
   },
   "outputs": [
    {
     "data": {
      "text/plain": [
       "0.13386880856760375"
      ]
     },
     "execution_count": 39,
     "metadata": {},
     "output_type": "execute_result"
    }
   ],
   "source": [
    "y_ratio"
   ]
  },
  {
   "cell_type": "code",
   "execution_count": 35,
   "metadata": {
    "collapsed": false
   },
   "outputs": [
    {
     "name": "stdout",
     "output_type": "stream",
     "text": [
      "2988 1640\n"
     ]
    }
   ],
   "source": [
    "print y, x"
   ]
  },
  {
   "cell_type": "code",
   "execution_count": null,
   "metadata": {
    "collapsed": true
   },
   "outputs": [],
   "source": []
  }
 ],
 "metadata": {
  "kernelspec": {
   "display_name": "Python 2",
   "language": "python",
   "name": "python2"
  },
  "language_info": {
   "codemirror_mode": {
    "name": "ipython",
    "version": 2
   },
   "file_extension": ".py",
   "mimetype": "text/x-python",
   "name": "python",
   "nbconvert_exporter": "python",
   "pygments_lexer": "ipython2",
   "version": "2.7.13"
  }
 },
 "nbformat": 4,
 "nbformat_minor": 2
}
