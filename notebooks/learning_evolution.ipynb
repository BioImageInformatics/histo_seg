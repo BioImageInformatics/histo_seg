{
 "cells": [
  {
   "cell_type": "code",
   "execution_count": 2,
   "metadata": {
    "collapsed": false
   },
   "outputs": [
    {
     "data": {
      "text/html": [
       "<style>.container { width:100% !important; }</style>"
      ],
      "text/plain": [
       "<IPython.core.display.HTML object>"
      ]
     },
     "metadata": {},
     "output_type": "display_data"
    }
   ],
   "source": [
    "from IPython.core.display import display, HTML\n",
    "display(HTML(\"<style>.container { width:100% !important; }</style>\"))\n"
   ]
  },
  {
   "cell_type": "markdown",
   "metadata": {},
   "source": [
    "# Visualization for class predictions over learning time"
   ]
  },
  {
   "cell_type": "code",
   "execution_count": 169,
   "metadata": {
    "collapsed": true
   },
   "outputs": [],
   "source": [
    "import sys\n",
    "\n",
    "sys.path.insert(0, '/home/nathan/caffe-segnet-crf/python')\n",
    "import caffe\n",
    "caffe.set_mode_gpu()\n",
    "\n",
    "sys.path.insert(0, '/home/nathan/histo-seg/v2/core')\n",
    "import colorNormalization as cnorm\n",
    "\n",
    "import os, glob, shutil, cv2\n",
    "import numpy as np\n",
    "\n",
    "%matplotlib inline\n",
    "from matplotlib import pyplot as plt"
   ]
  },
  {
   "cell_type": "code",
   "execution_count": 145,
   "metadata": {
    "collapsed": true
   },
   "outputs": [],
   "source": [
    "from sklearn.manifold import TSNE, MDS, Isomap\n",
    "from sklearn.decomposition import PCA"
   ]
  },
  {
   "cell_type": "code",
   "execution_count": 10,
   "metadata": {
    "collapsed": true
   },
   "outputs": [],
   "source": [
    "def img2caffe(img):\n",
    "    img = img.transpose((2,0,1))\n",
    "    img = np.expand_dims(img, 0)\n",
    "    \n",
    "    return img"
   ]
  },
  {
   "cell_type": "markdown",
   "metadata": {},
   "source": [
    "### Set up a way to parse a mask into one of our classes. We'll use 5 classes:\n",
    "- Stroma only\n",
    "- Grade 3 + Stroma\n",
    "- Grade 4/5 + Stroma\n",
    "- Benign + Stroma\n",
    "- Grade 4/5 only"
   ]
  },
  {
   "cell_type": "code",
   "execution_count": 195,
   "metadata": {
    "collapsed": true
   },
   "outputs": [],
   "source": [
    "def mask2classes(mask):\n",
    "    u = np.unique(mask)\n",
    "    if all(u == 3): # ST\n",
    "        return 0\n",
    "#         return -1\n",
    "    elif 0 in u and 1 not in u and 2 not in u: # 3\n",
    "        return 1\n",
    "#         return -1\n",
    "    elif 0 not in u and 1 in u and 2 not in u: # 4\n",
    "        return 2\n",
    "#         return -1\n",
    "    elif 0 not in u and 1 not in u and 2 in u: # Benign\n",
    "        return 3\n",
    "#         return -1\n",
    "    elif all(u == 1): # all 4\n",
    "#         return 4\n",
    "        return -1\n",
    "    else:\n",
    "        return -1"
   ]
  },
  {
   "cell_type": "code",
   "execution_count": 167,
   "metadata": {
    "collapsed": true
   },
   "outputs": [],
   "source": [
    "image_types = {\n",
    "    0: ['ST','.', 'r'],\n",
    "    1: ['G3','o', 'b'],\n",
    "    2: ['G4','1', 'm'],\n",
    "    3: ['BN','^', 'g'],\n",
    "    4: ['44','v', 'k']\n",
    "}"
   ]
  },
  {
   "cell_type": "code",
   "execution_count": 231,
   "metadata": {
    "collapsed": true
   },
   "outputs": [],
   "source": [
    "weights_list = ['/home/nathan/histo-seg/semantic-pca/weights/whole_set_512/batchnorm_segnet_pca_90000.caffemodel']\n",
    "\n",
    "deploy_proto = '/home/nathan/histo-seg/semantic-pca/code/segnet_basic_deploy_10X.prototxt'\n",
    "\n",
    "## All of them\n",
    "image_list = sorted(glob.glob('/home/nathan/histo-seg/semantic-pca/data/_data_origin/jpg/*jpg'))\n",
    "masks_list = sorted(glob.glob('/home/nathan/histo-seg/semantic-pca/data/_data_origin/mask/*png'))\n",
    "\n",
    "weights = weights_list[0]\n",
    "net = caffe.Net(deploy_proto, weights, caffe.TEST)"
   ]
  },
  {
   "cell_type": "code",
   "execution_count": 223,
   "metadata": {
    "collapsed": false
   },
   "outputs": [
    {
     "name": "stdout",
     "output_type": "stream",
     "text": [
      "[0 1 2 3]\n",
      "323\n"
     ]
    }
   ],
   "source": [
    "# Test our function\n",
    "\n",
    "use_masks_list = [mask for mask in masks_list if mask2classes(cv2.imread(mask,-1)) >= 0]\n",
    "use_image_list = [img for mask,img in zip(masks_list, image_list) if mask2classes(cv2.imread(mask,-1)) >= 0]\n",
    "use_masks_label = [mask2classes(cv2.imread(mask,-1)) for mask in use_masks_list]\n",
    "use_masks_label = np.asarray(use_masks_label)\n",
    "\n",
    "print np.unique(use_masks_label)\n",
    "print len(use_masks_list)"
   ]
  },
  {
   "cell_type": "markdown",
   "metadata": {},
   "source": [
    "### Fill up a matrix"
   ]
  },
  {
   "cell_type": "code",
   "execution_count": 232,
   "metadata": {
    "collapsed": false,
    "scrolled": false
   },
   "outputs": [
    {
     "name": "stdout",
     "output_type": "stream",
     "text": [
      "323\n",
      "(323, 5476)\n",
      "(323, 3517)\n",
      "Fitting\n",
      "Plotting\n",
      "0\n",
      "1\n",
      "2\n",
      "3\n",
      "4\n",
      "Done\n"
     ]
    },
    {
     "data": {
      "image/png": "[encoded data removed]",
      "text/plain": [
       "<matplotlib.figure.Figure at 0x7f029afb0390>"
      ]
     },
     "metadata": {},
     "output_type": "display_data"
    }
   ],
   "source": [
    "test_layer = 'pool4'\n",
    "x_vectors = []\n",
    "for image in use_image_list:\n",
    "    img_data = cv2.imread(image)\n",
    "    img_data = cv2.resize(img_data, dsize=(600,600))\n",
    "    img_data = cnorm.normalize(img_data)\n",
    "    img_caffe = img2caffe(img_data)\n",
    "\n",
    "    obs = net.forward(data=img_caffe)\n",
    "    \n",
    "    x_vectors.append(net.blobs[test_layer].data[0,0:4,:,:].ravel())\n",
    "    \n",
    "print len(x_vectors)\n",
    "    \n",
    "x = np.vstack(x_vectors)\n",
    "print x.shape\n",
    "\n",
    "x = x[:, (np.var(x, axis=0) > 0)]\n",
    "print x.shape\n",
    "\n",
    "transform = MDS(n_components=2)\n",
    "print 'Fitting'\n",
    "x_manifold = transform.fit_transform(x)\n",
    "print 'Plotting'\n",
    "\n",
    "fig, ax = plt.subplots(1,1,figsize=(9,9))\n",
    "\n",
    "for label in image_types.iterkeys():\n",
    "    print label\n",
    "    ax.scatter(x_manifold[use_masks_label==label, 0], x_manifold[use_masks_label==label, 1],\n",
    "                label=image_types[label][0], \n",
    "                marker=image_types[label][1],\n",
    "                c=image_types[label][2],\n",
    "                alpha=0.5,\n",
    "                s = 180)\n",
    "    \n",
    "ax.legend(scatterpoints=1)\n",
    "print 'Done'"
   ]
  },
  {
   "cell_type": "code",
   "execution_count": null,
   "metadata": {
    "collapsed": true
   },
   "outputs": [],
   "source": []
  }
 ],
 "metadata": {
  "kernelspec": {
   "display_name": "Python 2",
   "language": "python",
   "name": "python2"
  },
  "language_info": {
   "codemirror_mode": {
    "name": "ipython",
    "version": 2
   },
   "file_extension": ".py",
   "mimetype": "text/x-python",
   "name": "python",
   "nbconvert_exporter": "python",
   "pygments_lexer": "ipython2",
   "version": "2.7.12"
  }
 },
 "nbformat": 4,
 "nbformat_minor": 2
}
